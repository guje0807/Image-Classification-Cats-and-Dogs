{
  "nbformat": 4,
  "nbformat_minor": 0,
  "metadata": {
    "colab": {
      "name": "ANN.ipynb",
      "provenance": [],
      "collapsed_sections": []
    },
    "kernelspec": {
      "name": "python3",
      "display_name": "Python 3"
    },
    "language_info": {
      "name": "python"
    }
  },
  "cells": [
    {
      "cell_type": "code",
      "execution_count": null,
      "metadata": {
        "id": "EZYnd_uOVMZb"
      },
      "outputs": [],
      "source": [
        "import pickle\n",
        "\n",
        "X = pickle.load(open('/X.pkl','rb'))\n",
        "y = pickle.load(open('/y.pkl','rb'))"
      ]
    },
    {
      "cell_type": "code",
      "source": [
        "import numpy as np\n",
        "X = np.array(X,dtype=object)\n",
        "y = np.array(y,dtype=object)"
      ],
      "metadata": {
        "id": "cY6gmsCvqbJU"
      },
      "execution_count": null,
      "outputs": []
    },
    {
      "cell_type": "code",
      "source": [
        "from sklearn.model_selection import train_test_split\n",
        "X_train,X_test,y_train,y_test = train_test_split(X,y)"
      ],
      "metadata": {
        "id": "njt2VLEon4cF"
      },
      "execution_count": null,
      "outputs": []
    },
    {
      "cell_type": "code",
      "source": [
        "print(X_train.shape)\n",
        "print(X_test.shape)\n",
        "print(y_train.shape)\n",
        "print(y_test.shape)"
      ],
      "metadata": {
        "colab": {
          "base_uri": "https://localhost:8080/"
        },
        "id": "WKh3FGWpWTu_",
        "outputId": "cea0dc25-7add-4e27-f6ca-5d739549a1e6"
      },
      "execution_count": null,
      "outputs": [
        {
          "output_type": "stream",
          "name": "stdout",
          "text": [
            "(7500, 100, 100, 3)\n",
            "(2500, 100, 100, 3)\n",
            "(7500,)\n",
            "(2500,)\n"
          ]
        }
      ]
    },
    {
      "cell_type": "code",
      "source": [
        "from keras.models import Sequential \n",
        "from keras.layers import Conv2D, MaxPooling2D, Flatten, Dense"
      ],
      "metadata": {
        "id": "4WPYp6hYhWFG"
      },
      "execution_count": null,
      "outputs": []
    },
    {
      "cell_type": "code",
      "source": [
        "model = Sequential()\n",
        "\n",
        "#Declaring the feature dectectors \n",
        "#64 feature Dectectors of size 3*3 with activation function as rectified linear units.\n",
        "model.add(Conv2D(64,(3,3), activation = 'relu'))  \n",
        "\n",
        "#Pooling the feature map with Maxpooling with a matrix of size 2*2\n",
        "model.add(MaxPooling2D((2,2)))\n",
        "\n",
        "#2nd Layer of the Convulution\n",
        "model.add(Conv2D(64,(3,3), activation = 'relu'))\n",
        "model.add(MaxPooling2D((2,2)))\n",
        "\n",
        "# Flattening the convulution matrix\n",
        "model.add(Flatten())\n",
        "\n",
        "#Input layer of ANN with 128 neurons \n",
        "model.add(Dense(128,input_shape= X.shape[1:],activation = 'relu'))\n",
        "\n",
        "#Hidden Layer\n",
        "model.add(Dense(128,activation = 'relu'))\n",
        "\n",
        "#output layer with 2 neurons\n",
        "model.add(Dense(2,activation = 'softmax'))"
      ],
      "metadata": {
        "id": "JlbBh4MWp0Lb"
      },
      "execution_count": null,
      "outputs": []
    },
    {
      "cell_type": "code",
      "source": [
        "# Compiling the model mentioning the optimizer, loss function anf metrics to tune the model.\n",
        "model.compile(optimizer='adam', loss = 'sparse_categorical_crossentropy', metrics=['accuracy'])"
      ],
      "metadata": {
        "id": "o2FfQAj8p-zD"
      },
      "execution_count": null,
      "outputs": []
    },
    {
      "cell_type": "code",
      "source": [
        "X_train = X_train.astype('float32')\n",
        "y_train = y_train.astype('float32')\n",
        "X_test = X_test.astype('float32')\n",
        "y_test = y_test.astype('float32')"
      ],
      "metadata": {
        "id": "iah2kLIIrD-i"
      },
      "execution_count": null,
      "outputs": []
    },
    {
      "cell_type": "code",
      "source": [
        "history = model.fit(X_train,y_train, epochs=5,validation_data=(X_test,y_test))"
      ],
      "metadata": {
        "colab": {
          "base_uri": "https://localhost:8080/"
        },
        "id": "z40cMYYFqC34",
        "outputId": "e24d1ce5-f561-404a-84e8-d19a46c1532c"
      },
      "execution_count": null,
      "outputs": [
        {
          "output_type": "stream",
          "name": "stdout",
          "text": [
            "Epoch 1/5\n",
            "235/235 [==============================] - 170s 723ms/step - loss: 5.6702 - accuracy: 0.5152 - val_loss: 0.6914 - val_accuracy: 0.5168\n",
            "Epoch 2/5\n",
            "235/235 [==============================] - 168s 715ms/step - loss: 0.6860 - accuracy: 0.5588 - val_loss: 0.7050 - val_accuracy: 0.5292\n",
            "Epoch 3/5\n",
            "235/235 [==============================] - 168s 716ms/step - loss: 0.6426 - accuracy: 0.5891 - val_loss: 0.7283 - val_accuracy: 0.5452\n",
            "Epoch 4/5\n",
            "235/235 [==============================] - 163s 694ms/step - loss: 0.5912 - accuracy: 0.6345 - val_loss: 0.8408 - val_accuracy: 0.5248\n",
            "Epoch 5/5\n",
            "235/235 [==============================] - 167s 709ms/step - loss: 0.5200 - accuracy: 0.6860 - val_loss: 1.0337 - val_accuracy: 0.5364\n"
          ]
        }
      ]
    },
    {
      "cell_type": "code",
      "source": [
        "y_pred = model.predict(X_test)"
      ],
      "metadata": {
        "id": "oR9AisInwskJ"
      },
      "execution_count": null,
      "outputs": []
    },
    {
      "cell_type": "code",
      "source": [
        "import tensorflow as tf\n",
        "\n",
        "indexes = tf.argmax(y_pred, axis=1)"
      ],
      "metadata": {
        "id": "NyprqKebyEga"
      },
      "execution_count": null,
      "outputs": []
    },
    {
      "cell_type": "code",
      "source": [
        "indexes"
      ],
      "metadata": {
        "colab": {
          "base_uri": "https://localhost:8080/"
        },
        "id": "7A9R0soV1MQa",
        "outputId": "cd315412-04ed-4c6d-b000-ec9fe4b98737"
      },
      "execution_count": null,
      "outputs": [
        {
          "output_type": "execute_result",
          "data": {
            "text/plain": [
              "<tf.Tensor: shape=(2500,), dtype=int64, numpy=array([0, 1, 0, ..., 0, 0, 1])>"
            ]
          },
          "metadata": {},
          "execution_count": 39
        }
      ]
    },
    {
      "cell_type": "code",
      "source": [
        "from sklearn.metrics import confusion_matrix\n",
        "import matplotlib.pyplot as plt\n",
        "a = confusion_matrix(y_test, indexes)\n",
        "print(a)"
      ],
      "metadata": {
        "colab": {
          "base_uri": "https://localhost:8080/"
        },
        "id": "4DPR6xTXxAIp",
        "outputId": "c166e7b4-6393-4bf5-8c1a-89eba085b688"
      },
      "execution_count": null,
      "outputs": [
        {
          "output_type": "stream",
          "name": "stdout",
          "text": [
            "[[884 358]\n",
            " [801 457]]\n"
          ]
        }
      ]
    },
    {
      "cell_type": "code",
      "source": [
        "from sklearn.linear_model import LogisticRegression\n",
        "\n",
        "X_flatten = X_train.reshape(X_train.shape[0], -1)\n",
        "X_test_flatten = X_test.reshape(X_test.shape[0], -1)\n",
        "print(X_flatten.shape)\n",
        "print(X_test_flatten.shape)\n",
        "print(y_train.shape)"
      ],
      "metadata": {
        "colab": {
          "base_uri": "https://localhost:8080/"
        },
        "id": "MDq_dGB32eI1",
        "outputId": "e398f7ca-4a3e-48b6-88c6-a522ebb685cb"
      },
      "execution_count": null,
      "outputs": [
        {
          "output_type": "stream",
          "name": "stdout",
          "text": [
            "(7500, 30000)\n",
            "(2500, 30000)\n",
            "(7500,)\n"
          ]
        }
      ]
    },
    {
      "cell_type": "code",
      "source": [
        "from sklearn import preprocessing\n",
        "\n",
        "scaler = preprocessing.StandardScaler().fit(X_flatten)\n",
        "X_scaled = scaler.transform(X_flatten)\n",
        "X_test_scaled = scaler.transform(X_test_flatten)"
      ],
      "metadata": {
        "id": "1UyGIzL47NZu"
      },
      "execution_count": null,
      "outputs": []
    },
    {
      "cell_type": "code",
      "source": [
        "logreg = LogisticRegression(max_iter=1500)\n",
        "logreg.fit(X_scaled, y_train)"
      ],
      "metadata": {
        "colab": {
          "base_uri": "https://localhost:8080/"
        },
        "id": "QIj9xtsn4QWX",
        "outputId": "c8f72492-4148-45e5-f373-7b3615291ac9"
      },
      "execution_count": null,
      "outputs": [
        {
          "output_type": "stream",
          "name": "stderr",
          "text": [
            "/usr/local/lib/python3.7/dist-packages/sklearn/linear_model/_logistic.py:818: ConvergenceWarning: lbfgs failed to converge (status=1):\n",
            "STOP: TOTAL NO. of ITERATIONS REACHED LIMIT.\n",
            "\n",
            "Increase the number of iterations (max_iter) or scale the data as shown in:\n",
            "    https://scikit-learn.org/stable/modules/preprocessing.html\n",
            "Please also refer to the documentation for alternative solver options:\n",
            "    https://scikit-learn.org/stable/modules/linear_model.html#logistic-regression\n",
            "  extra_warning_msg=_LOGISTIC_SOLVER_CONVERGENCE_MSG,\n"
          ]
        },
        {
          "output_type": "execute_result",
          "data": {
            "text/plain": [
              "LogisticRegression(max_iter=1500)"
            ]
          },
          "metadata": {},
          "execution_count": 13
        }
      ]
    },
    {
      "cell_type": "code",
      "source": [
        ""
      ],
      "metadata": {
        "id": "pS2KBZ_d8E7r"
      },
      "execution_count": null,
      "outputs": []
    },
    {
      "cell_type": "code",
      "source": [
        "y_log_pred = logreg.predict(X_test_scaled)"
      ],
      "metadata": {
        "id": "xEnaQueU7Mb4"
      },
      "execution_count": null,
      "outputs": []
    },
    {
      "cell_type": "code",
      "source": [
        "score = logreg.score(X_test_scaled, y_test)\n",
        "print('Test Accuracy Score', score)\n"
      ],
      "metadata": {
        "colab": {
          "base_uri": "https://localhost:8080/"
        },
        "id": "aSebjXDGEsK2",
        "outputId": "ccba1820-c1da-4630-f864-f9d5775f382d"
      },
      "execution_count": null,
      "outputs": [
        {
          "output_type": "stream",
          "name": "stdout",
          "text": [
            "Test Accuracy Score 0.542\n"
          ]
        }
      ]
    },
    {
      "cell_type": "code",
      "source": [
        "from sklearn.metrics import confusion_matrix\n",
        "b = confusion_matrix(y_test, y_log_pred)\n",
        "print(b)"
      ],
      "metadata": {
        "colab": {
          "base_uri": "https://localhost:8080/"
        },
        "id": "Qa_345oxEQqf",
        "outputId": "2c7de041-6ed3-4087-c615-fea77e09ff63"
      },
      "execution_count": null,
      "outputs": [
        {
          "output_type": "stream",
          "name": "stdout",
          "text": [
            "[[733 541]\n",
            " [604 622]]\n"
          ]
        }
      ]
    }
  ]
}